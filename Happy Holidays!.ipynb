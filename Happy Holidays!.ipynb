{
 "cells": [
  {
   "cell_type": "code",
   "execution_count": 16,
   "id": "7f6649eb",
   "metadata": {},
   "outputs": [
    {
     "name": "stdout",
     "output_type": "stream",
     "text": [
      "         ^          \n",
      "        ^^^         \n",
      "       ^^^^^        \n",
      "      ^^^^^^^       \n",
      "     ^^^^^^^^^      \n",
      "    ^^^^^^^^^^^     \n",
      "   ^^^^^^^^^^^^^    \n",
      "  ^^^^^^^^^^^^^^^   \n",
      " ^^^^^^^^^^^^^^^^^  \n",
      "^^^^^^^^^^^^^^^^^^^ \n",
      "        | |         \n",
      "  Happy Holidays!   \n"
     ]
    }
   ],
   "source": [
    "count = 1\n",
    "width = 20\n",
    "\n",
    "for i in range(10):\n",
    "        print((\"^\"*count).center(width))\n",
    "        count += 2\n",
    "print(\"| |\".center(width))\n",
    "\n",
    "print((\"Happy Holidays!\").center(width))"
   ]
  }
 ],
 "metadata": {
  "kernelspec": {
   "display_name": "Python 3.8.8 64-bit ('base': conda)",
   "language": "python",
   "name": "python388jvsc74a57bd054f1f1dfdb3a4926ad466fd7a8517819ad48dd9e58dfe7700d71f4d91a0df6c0"
  },
  "language_info": {
   "codemirror_mode": {
    "name": "ipython",
    "version": 3
   },
   "file_extension": ".py",
   "mimetype": "text/x-python",
   "name": "python",
   "nbconvert_exporter": "python",
   "pygments_lexer": "ipython3",
   "version": "3.8.8"
  }
 },
 "nbformat": 4,
 "nbformat_minor": 5
}
